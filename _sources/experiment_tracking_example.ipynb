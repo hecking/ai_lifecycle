{
 "cells": [
  {
   "cell_type": "markdown",
   "id": "7552b2ec-0327-420c-943e-892f4dc355cf",
   "metadata": {},
   "source": [
    "# Beispiel für Experiment Tracking\n",
    "\n",
    "Ein lokaler MLFlow Tracking Server wird aus der Konsole mit folgendem Befehl gestartet:"
   ]
  },
  {
   "cell_type": "code",
   "execution_count": null,
   "id": "61283644-fa70-4a5f-8474-515d4c44fd0b",
   "metadata": {},
   "outputs": [],
   "source": [
    "!mlflow ui"
   ]
  },
  {
   "cell_type": "markdown",
   "id": "4938c595-ec79-4b41-9473-d1ad960b83e9",
   "metadata": {},
   "source": [
    "Eine GUI ist nun unter http://localhost:5000 erreichbar."
   ]
  },
  {
   "cell_type": "markdown",
   "id": "24cd9617-29bf-49cc-808b-fbfb1f1d37e8",
   "metadata": {},
   "source": [
    "## Tracking eines Experiments für Cracktip Detection Modelle"
   ]
  },
  {
   "cell_type": "markdown",
   "id": "038fc9ac-1a8e-4c46-a167-775f2fbe741a",
   "metadata": {},
   "source": [
    "Import benötigter Module"
   ]
  },
  {
   "cell_type": "code",
   "execution_count": 72,
   "id": "60b3587a-a4ad-4f9a-9368-aefa45df54bd",
   "metadata": {},
   "outputs": [],
   "source": [
    "import mlflow\n",
    "import example.data_loader as dl\n",
    "import example.model_loader as ml\n",
    "import example.train_utils as tu\n",
    "import torch\n",
    "from torch.utils.data import Subset\n",
    "from torch.utils.data.dataloader import DataLoader"
   ]
  },
  {
   "cell_type": "code",
   "execution_count": 73,
   "id": "cd4c804a-fc8a-4cb3-8102-aac3f7dad54c",
   "metadata": {},
   "outputs": [],
   "source": [
    "device = torch.device('cuda:0' if torch.cuda.is_available() else 'cpu')"
   ]
  },
  {
   "cell_type": "markdown",
   "id": "faa90b62-9d81-4361-9bf5-60f874910b6a",
   "metadata": {},
   "source": [
    "Laden der Daten (Es werden zu demonstrationszwecken nur 50 Beispiele geladen)"
   ]
  },
  {
   "cell_type": "code",
   "execution_count": 74,
   "id": "2dcf476f-100d-4437-ac20-2c025eb069e0",
   "metadata": {},
   "outputs": [],
   "source": [
    "train_set, val_set = dl.load_data()\n",
    "train_set = Subset(train_set, range(50))\n",
    "val_set = Subset(val_set, range(50))"
   ]
  },
  {
   "cell_type": "markdown",
   "id": "206280cb-7c3e-4803-9362-3d7bc82ceee9",
   "metadata": {},
   "source": [
    "### Configuration eines Trainingsdurchlaufs\n",
    "Hier werden zentral die Parameter für das Training und die Konfiguration des Modells festgelegt.\n",
    "Für verschiedene Durchläufe ist dies der einzige Punkt an dem Einstellungen vorgenommen werden müssen."
   ]
  },
  {
   "cell_type": "code",
   "execution_count": 78,
   "id": "8f8c4765-0e4e-4cf6-94ad-7eeac4042f1a",
   "metadata": {},
   "outputs": [],
   "source": [
    "model_params = {\n",
    "    'model_size': 32,\n",
    "    'model_dropout_prob': 0.2\n",
    "}\n",
    "\n",
    "train_params = {\n",
    "    'train_epochs': 3,\n",
    "    'train_learning_rate': 1e-4,\n",
    "    'train_batch_size': 5,\n",
    "    'optimizer': 'Adam'\n",
    "}"
   ]
  },
  {
   "cell_type": "markdown",
   "id": "d087ce32-131a-49f3-be48-60cf4e3f087c",
   "metadata": {},
   "source": [
    "### Durchführen eines Trainingsdurchlaufs mit Tracking über MLFlow\n",
    "\n",
    "Alle Parameter, die zur **Reproduktion** des Durchlaufs wichtig sind, werden dokumentiert.\n",
    "\n",
    "Der Traininigsfortschritt wird laufend überwacht. Anpassung des Modells über die *Loss* Funktion und Güte des Modells nach jeder Trainingsepoche.\n",
    "\n",
    "Zunächst wird dafür eine Verbindung zum MLFlow Tracking Server hergestellt. Danach wird der Durchlauf mit dem Experiment *crack_tip_detection* verbunden."
   ]
  },
  {
   "cell_type": "code",
   "execution_count": 79,
   "id": "92fd4b79-4648-42c0-b1e0-efd5ffae0544",
   "metadata": {},
   "outputs": [
    {
     "data": {
      "text/plain": [
       "<Experiment: artifact_location='mlflow-artifacts:/452056258848977975', creation_time=1710687793008, experiment_id='452056258848977975', last_update_time=1710687793008, lifecycle_stage='active', name='/crack_tip_detection', tags={}>"
      ]
     },
     "execution_count": 79,
     "metadata": {},
     "output_type": "execute_result"
    }
   ],
   "source": [
    "mlflow.set_tracking_uri('http://localhost:5000')\n",
    "mlflow.set_experiment('/crack_tip_detection')"
   ]
  },
  {
   "cell_type": "code",
   "execution_count": 80,
   "id": "5c537203-52a9-4d5c-9a16-ce45a555538b",
   "metadata": {},
   "outputs": [
    {
     "name": "stderr",
     "output_type": "stream",
     "text": [
      "Registered model 'crack-tip-detection-production' already exists. Creating a new version of this model...\n",
      "2024/03/19 10:22:57 INFO mlflow.store.model_registry.abstract_store: Waiting up to 300 seconds for model version to finish creation. Model name: crack-tip-detection-production, version 4\n",
      "Created version '4' of model 'crack-tip-detection-production'.\n"
     ]
    }
   ],
   "source": [
    "with mlflow.start_run():\n",
    "    mlflow.set_tag('Training Info', 'Cracktip detection tests') # Durchläufe können mit Tags versehen werden.\n",
    "    mlflow.log_params(model_params) # Logging der Modellparameter\n",
    "    mlflow.log_params(train_params) # Logging der Trainingsparameter\n",
    "\n",
    "    # Instanstiieren des Modells und der Daten anhand der zuvor festgelegten Parameter.\n",
    "    model = ml.load_model(size=model_params['model_size'], \n",
    "                          dropout_prob=model_params['model_dropout_prob'])\n",
    "    train_loader = DataLoader(train_set, batch_size=train_params['train_batch_size'])\n",
    "    val_loader = DataLoader(val_set, batch_size=train_params['train_batch_size'])\n",
    "    optimizer = torch.optim.Adam(model.parameters(), lr=train_params['train_learning_rate'], \n",
    "                           amsgrad=True)\n",
    "\n",
    "    # Trainingsschleife\n",
    "    for epoch in range(train_params['train_epochs']):\n",
    "        model.train()\n",
    "        for i, (inputs, labels) in enumerate(train_loader):\n",
    "            inputs = inputs.to(device)\n",
    "            labels = labels[0].to(device), labels[1].to(device)\n",
    "            # zero the gradients\n",
    "            optimizer.zero_grad()\n",
    "\n",
    "            outputs = model.forward(inputs)\n",
    "            loss = tu.compute_loss(outputs, labels)\n",
    "            \n",
    "            if i % 2 == 0:\n",
    "                mlflow.log_metric('loss', loss)\n",
    "                \n",
    "            loss.backward()\n",
    "            optimizer.step()\n",
    "\n",
    "        # Validieren des Modells anhand von Testdaten\n",
    "        deviation, reliability = tu.validate_model(model, val_loader)\n",
    "        mlflow.log_metric('deviation', deviation) # Logging der Abeweichung von den Ground Truth Daten\n",
    "        mlflow.log_metric('reliability', reliability) # Logging der Berechneten zuverlässigkeit\n",
    "\n",
    "    # Logging und Registrierung des Trainierten Modells\n",
    "    mlflow.pytorch.log_model(\n",
    "        pytorch_model=model,\n",
    "        artifact_path='crack-tip-detection',\n",
    "        registered_model_name='crack-tip-detection-production',\n",
    "    )"
   ]
  },
  {
   "cell_type": "code",
   "execution_count": 71,
   "id": "70f8c17d-6a42-4a94-8210-cc3515d8e1db",
   "metadata": {},
   "outputs": [],
   "source": [
    "mlflow.end_run()"
   ]
  },
  {
   "cell_type": "markdown",
   "id": "311fc864-95f6-4d33-a45f-76c54466c33a",
   "metadata": {},
   "source": [
    "Die Dokumentation des Durchlaufs kann nun über den Trackingserver eingesehen werden (http://localhost:5000)"
   ]
  }
 ],
 "metadata": {
  "kernelspec": {
   "display_name": "Python 3 (ipykernel)",
   "language": "python",
   "name": "python3"
  },
  "language_info": {
   "codemirror_mode": {
    "name": "ipython",
    "version": 3
   },
   "file_extension": ".py",
   "mimetype": "text/x-python",
   "name": "python",
   "nbconvert_exporter": "python",
   "pygments_lexer": "ipython3",
   "version": "3.11.5"
  }
 },
 "nbformat": 4,
 "nbformat_minor": 5
}
